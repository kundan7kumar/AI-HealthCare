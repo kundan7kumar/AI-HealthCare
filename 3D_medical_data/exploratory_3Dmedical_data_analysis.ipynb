{
 "cells": [
  {
   "cell_type": "markdown",
   "metadata": {},
   "source": [
    "# Install packages for Medical data analysis "
   ]
  },
  {
   "cell_type": "markdown",
   "metadata": {},
   "source": [
    "# Part I"
   ]
  },
  {
   "cell_type": "code",
   "execution_count": 1,
   "metadata": {},
   "outputs": [],
   "source": [
    "import pydicom\n",
    "import numpy as np\n",
    "from PIL import Image\n",
    "import os\n",
    "import matplotlib.pyplot as plt"
   ]
  },
  {
   "cell_type": "markdown",
   "metadata": {},
   "source": [
    "## Use DICOM library"
   ]
  },
  {
   "cell_type": "code",
   "execution_count": 7,
   "metadata": {},
   "outputs": [
    {
     "name": "stdout",
     "output_type": "stream",
     "text": [
      "Modality: CT\n"
     ]
    }
   ],
   "source": [
    "# Use pydicom's dcmread method to load the image\n",
    "dcm = pydicom.dcmread(\"instance.dcm\")\n",
    "print(f\"Modality: {dcm.Modality}\")"
   ]
  },
  {
   "cell_type": "code",
   "execution_count": 8,
   "metadata": {},
   "outputs": [
    {
     "name": "stdout",
     "output_type": "stream",
     "text": [
      "min: -3024, max: 3071\n"
     ]
    }
   ],
   "source": [
    "# Use NumPy array by accessing .pixel_array field.\n",
    "pixels = np.copy(dcm.pixel_array)\n",
    "print(f\"min: {np.min(pixels)}, max: {np.max(pixels)}\")"
   ]
  },
  {
   "cell_type": "code",
   "execution_count": 9,
   "metadata": {},
   "outputs": [
    {
     "name": "stdout",
     "output_type": "stream",
     "text": [
      "min: 0.0, max: 0.644546332046332\n"
     ]
    },
    {
     "data": {
      "image/png": "[encoded data removed]",
      "text/plain": [
       "<Figure size 432x288 with 1 Axes>"
      ]
     },
     "metadata": {
      "needs_background": "light"
     },
     "output_type": "display_data"
    }
   ],
   "source": [
    "#Apply WW/WC transform and convert image into greyscale\n",
    "\n",
    "wc = 2472\n",
    "ww = 4144\n",
    "\n",
    "hu_min = wc - ww/2\n",
    "hu_max = wc + ww/2\n",
    "\n",
    "pixels[np.where(pixels < hu_min)] = hu_min\n",
    "pixels[np.where(pixels > hu_max)] = hu_max\n",
    "pixels = (pixels - hu_min)/(hu_max-hu_min)\n",
    "\n",
    "plt.imshow(pixels, cmap=\"gray\")\n",
    "\n",
    "print(f\"min: {np.min(pixels)}, max: {np.max(pixels)}\")"
   ]
  },
  {
   "cell_type": "code",
   "execution_count": 10,
   "metadata": {},
   "outputs": [],
   "source": [
    "# save the image with PIL: Image.fromarray and .save methods to save a NumPy array as png\n",
    "# used \"L\" mode, PIL is expecting your data to be of type uint8 (and in the range of 0-255)\n",
    "\n",
    "out = (pixels*0xff).astype(np.uint8)\n",
    "im = Image.fromarray(out, mode=\"L\")\n",
    "im.save(\"out.png\")"
   ]
  },
  {
   "cell_type": "markdown",
   "metadata": {},
   "source": [
    "## Part II"
   ]
  },
  {
   "cell_type": "code",
   "execution_count": null,
   "metadata": {},
   "outputs": [],
   "source": [
    "\n",
    "\n",
    "# TASK: In the same folder as this .py file you will find a DICOM folder\n",
    "# with a volume in it. You can assume that all files belong to the same series.\n",
    "# Your task is to visualize any three slices across the three \n",
    "# cardinal planes from this volume: Axial, Coronal and Sagittal. You can visualize \n",
    "# by saving them as png, similar to the previous exercise. You can visualize slice at \n",
    "# any level, but I suggest that you visualize slices located in the middle of the volume.\n",
    "\n",
    "# \n",
    "# Bonus points: \n",
    "# 1) What is the modality that you are dealing with here?\n",
    "# 2) Try to figure out which axis corresponds to what plane by searching online.\n",
    "# You should have a good guess of what anatomy you are looking at if you visualize the middle slice\n",
    "# 3) Try plotting the slices in non-primary planes with proper aspect ratio\n",
    "#\n",
    "# Hints:\n",
    "# - You may want to rescale the output because your voxels are non-square. \n",
    "# - Don't forget that you need to order your slices properly. Filename \n",
    "# may not be the best indicator of the slice order. \n",
    "# If you're confused, try looking up the first value of ImagePositionPatient\n",
    "# - Don't forget the windowing. A good initial guess would be scaling all\n",
    "# image values down to [0..1] range when saving. Pillow deals with such well\n",
    "\n",
    "# %% \n",
    "# Load the volume into array of slices\n",
    "path = f\"volume\"\n",
    "slices = [pydicom.dcmread(os.path.join(path, f)) for f in os.listdir(path)]\n",
    "\n",
    "# <YOUR CODE HERE>"
   ]
  },
  {
   "cell_type": "markdown",
   "metadata": {},
   "source": [
    "Volume Dataset Analysis\n",
    "In this exercise you will be analyzing a DICOM dataset. This dataset is not as conveniently organized on the filesystem as some of the datasets we have seen in this lesson so far. Rather, this dataset looks like something that you are likely to get as a raw dump from a clinical data archive.\n",
    "\n",
    "Your task is to use the skills you have acquired in this lesson to go through this dataset and answer (or provide your best quess to) the following questions:\n",
    "\n",
    "What imaging modality was used to produce this dataset?\n",
    "Data from how many patients does the dataset include?\n",
    "How many studies are in the dataset?\n",
    "What are the oldest and the most recent studies in the dataset?\n",
    "How many series are in the dataset?\n",
    "In addition, do the following tasks:\n",
    "\n",
    "List voxel dimensions of all 3D volumes (i.e. series) that the dataset contains as WxHxD\n",
    "The dataset contains two outliers. Can you find them? There is more than one way to find them. Type up why do you think these volumes are outliers and what approach you used.\n",
    "Lastly, I understand that you are not a radiologist quite yet, but as a stretch goal, do the following:\n",
    "\n",
    "Load a few series into 3D slicer and tell what is the anatomy imaged in our dataset\n",
    "You can assume that this dataset is consistent with DICOM information model, i.e. all instances within series share common attributes of the series and all instances within study share common study attributes. In other words, you can expect that something like Series Description will be the same for all instances belonging to the same series and you can read this value from any one file of the series. You can also expect that all the slices in same series have equal resolution and are evenly spaced."
   ]
  },
  {
   "cell_type": "code",
   "execution_count": null,
   "metadata": {},
   "outputs": [],
   "source": []
  }
 ],
 "metadata": {
  "kernelspec": {
   "display_name": "Python 3",
   "language": "python",
   "name": "python3"
  },
  "language_info": {
   "codemirror_mode": {
    "name": "ipython",
    "version": 3
   },
   "file_extension": ".py",
   "mimetype": "text/x-python",
   "name": "python",
   "nbconvert_exporter": "python",
   "pygments_lexer": "ipython3",
   "version": "3.7.7"
  }
 },
 "nbformat": 4,
 "nbformat_minor": 4
}
